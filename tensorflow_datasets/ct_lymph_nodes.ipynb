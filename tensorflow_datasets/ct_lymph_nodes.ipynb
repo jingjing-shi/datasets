{
 "cells": [
  {
   "cell_type": "code",
   "execution_count": 4,
   "metadata": {},
   "outputs": [],
   "source": [
    "\n",
    "import tensorflow_datasets as tfds\n",
    "import tensorflow as tf\n",
    "\n",
    "import numpy as np\n",
    "import os\n",
    "import io\n",
    "import pydicom\n",
    "import nibabel \n",
    "#tfds.load('ct_lymph_nodes')"
   ]
  },
  {
   "cell_type": "code",
   "execution_count": null,
   "metadata": {},
   "outputs": [],
   "source": [
    "tfds.load('ct_lymph_nodes',download_and_prepare_kwargs = {'download_config' :\n",
    "    tfds.download.DownloadConfig(manual_dir = None)})"
   ]
  },
  {
   "cell_type": "code",
   "execution_count": 2,
   "metadata": {},
   "outputs": [
    {
     "name": "stdout",
     "output_type": "stream",
     "text": [
      "/Users/Jingjing/project 1/datasets/tensorflow_datasets\n"
     ]
    }
   ],
   "source": [
    "!pwd"
   ]
  },
  {
   "cell_type": "code",
   "execution_count": 23,
   "metadata": {},
   "outputs": [
    {
     "ename": "IndentationError",
     "evalue": "unexpected indent (<ipython-input-23-13d67240b567>, line 19)",
     "output_type": "error",
     "traceback": [
      "\u001b[0;36m  File \u001b[0;32m\"<ipython-input-23-13d67240b567>\"\u001b[0;36m, line \u001b[0;32m19\u001b[0m\n\u001b[0;31m    print( key,\u001b[0m\n\u001b[0m    ^\u001b[0m\n\u001b[0;31mIndentationError\u001b[0m\u001b[0;31m:\u001b[0m unexpected indent\n"
     ]
    }
   ],
   "source": [
    "filepath = '/Users/Jingjing/tensorflow_datasets/downloads/manual/'\n",
    "patients = tf.io.gfile.listdir(os.path.join(filepath,'MED_ABD_LYMPH_MASKS'))\n",
    "for patient_id in patients:\n",
    "        i = 0\n",
    "        if patient_id.startswith('.'):\n",
    "            pass\n",
    "        else:\n",
    "            mask_path = os.path.join(filepath,'MED_ABD_LYMPH_MASKS',patient_id,patient_id+'_mask.nii.gz')\n",
    "            with tf.io.gfile.GFile(mask_path) as f:\n",
    "                mask_file = tfds.core.lazy_imports.nibabel.load(f.name).get_fdata().astype('int16')\n",
    "            images = tf.io.gfile.listdir(os.path.join(filepath,'MED_ABD_LYMPH_IMAGES',patient_id))\n",
    "            for file in images:\n",
    "                file_name= os.path.join(filepath,'MED_ABD_LYMPH_IMAGES',patient_id,file)\n",
    "                if file_name.endswith('dcm'):\n",
    "                    with tf.io.gfile.GFile(file_name) as f:\n",
    "                        image_file = tfds.core.lazy_imports.pydicom.read_file(f.name)\n",
    "                    key = patient_id+'_'+str(i+1)\n",
    "\n",
    "                        print( key,\n",
    "                            {\n",
    "                                    'image':image_file.pixel_array,\n",
    "                                    'mask' : mask[:,:,i],\n",
    "                                    'age' : image_file.PatientAge,\n",
    "                                    'sex' :image_file.PatientSex,\n",
    "                                    'body_part': image_file.BodyPartExamined\n",
    "\n",
    "                            })\n",
    "                        i+=1\n",
    "        "
   ]
  },
  {
   "cell_type": "code",
   "execution_count": 20,
   "metadata": {},
   "outputs": [
    {
     "data": {
      "text/plain": [
       "'/Users/Jingjing/tensorflow_datasets/downloads/manual/MED_ABD_LYMPH_MASKS/ABD_LYMPH_002/ABD_LYMPH_002_mask.nii.gz'"
      ]
     },
     "execution_count": 20,
     "metadata": {},
     "output_type": "execute_result"
    }
   ],
   "source": [
    "f.name"
   ]
  },
  {
   "cell_type": "code",
   "execution_count": null,
   "metadata": {},
   "outputs": [],
   "source": []
  }
 ],
 "metadata": {
  "environment": {
   "name": "tf2-2-3-gpu.2-3.m55",
   "type": "gcloud",
   "uri": "gcr.io/deeplearning-platform-release/tf2-2-3-gpu.2-3:m55"
  },
  "kernelspec": {
   "display_name": "Python 3",
   "language": "python",
   "name": "python3"
  },
  "language_info": {
   "codemirror_mode": {
    "name": "ipython",
    "version": 3
   },
   "file_extension": ".py",
   "mimetype": "text/x-python",
   "name": "python",
   "nbconvert_exporter": "python",
   "pygments_lexer": "ipython3",
   "version": "3.7.4"
  }
 },
 "nbformat": 4,
 "nbformat_minor": 4
}
